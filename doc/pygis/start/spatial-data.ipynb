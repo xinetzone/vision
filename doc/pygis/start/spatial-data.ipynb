{
 "cells": [
  {
   "cell_type": "markdown",
   "metadata": {},
   "source": [
    "# 空间数据\n",
    "\n",
    "首先运行以下命令，如果在自己的机器上运行，这有助于确保绘图出现在笔记本中。"
   ]
  },
  {
   "cell_type": "code",
   "execution_count": 1,
   "metadata": {},
   "outputs": [],
   "source": [
    "%matplotlib inline"
   ]
  },
  {
   "cell_type": "markdown",
   "metadata": {},
   "source": [
    "为了在 GIS 环境中工作，需要将真实世界的观察（可以在 2D 或 3D 空间中记录的对象或事件）简化为空间实体。这些空间实体可以在 GIS 中表示为向量（也称 矢量，即 vector）数据模型或光栅（raster）数据模型。\n",
    "\n",
    "## 向量数据\n",
    "\n",
    "向量特征可以分解为三种不同的几何原语：点（points）、折线（polylines）和多边形（polygons）。\n",
    "\n",
    "### 点"
   ]
  },
  {
   "cell_type": "code",
   "execution_count": 1,
   "metadata": {},
   "outputs": [
    {
     "name": "stdout",
     "output_type": "stream",
     "text": [
      "                          name                    geometry\n",
      "0  Washington\\n(38.90, -77.03)  POINT (-77.03687 38.90719)\n",
      "1   Baltimore\\n(39.29, -76.61)  POINT (-76.61219 39.29039)\n",
      "2     Fredrick\\n(39.41,-77.40)  POINT (-77.40846 39.41201)\n"
     ]
    }
   ],
   "source": [
    "import geopandas as gpd\n",
    "import matplotlib.pyplot as plt\n",
    "from shapely.geometry import Point\n",
    "\n",
    "d = {'name': ['Washington\\n(38.90, -77.03)', 'Baltimore\\n(39.29, -76.61)','Fredrick\\n(39.41,-77.40)'], \n",
    "     'geometry': [Point(-77.036873,38.907192), Point(-76.612190,39.290386,), Point(-77.408456,39.412006)]}\n",
    "\n",
    "gdf = gpd.GeoDataFrame(d, crs=\"EPSG:4326\")\n",
    "print(gdf)"
   ]
  },
  {
   "cell_type": "code",
   "execution_count": null,
   "metadata": {},
   "outputs": [],
   "source": []
  }
 ],
 "metadata": {
  "kernelspec": {
   "display_name": "Python 3.10.4 ('tvmx': conda)",
   "language": "python",
   "name": "python3"
  },
  "language_info": {
   "codemirror_mode": {
    "name": "ipython",
    "version": 3
   },
   "file_extension": ".py",
   "mimetype": "text/x-python",
   "name": "python",
   "nbconvert_exporter": "python",
   "pygments_lexer": "ipython3",
   "version": "3.10.4"
  },
  "orig_nbformat": 4,
  "vscode": {
   "interpreter": {
    "hash": "e579259ee6098e2b9319de590d145b4b096774fe457bdf04260e3ba5c171e887"
   }
  }
 },
 "nbformat": 4,
 "nbformat_minor": 2
}
