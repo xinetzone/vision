{
 "cells": [
  {
   "cell_type": "markdown",
   "metadata": {},
   "source": [
    "# 几何渲染\n",
    "\n",
    "展示一些使用 `dash_vtk` 渲染网格的例子。"
   ]
  },
  {
   "cell_type": "code",
   "execution_count": 8,
   "metadata": {},
   "outputs": [],
   "source": [
    "# from dash import jupyter_dash\n",
    "\n",
    "# jupyter_dash.infer_jupyter_proxy_config()"
   ]
  },
  {
   "cell_type": "code",
   "execution_count": 9,
   "metadata": {
    "tags": [
     "hidden-input"
    ]
   },
   "outputs": [
    {
     "data": {
      "text/html": [
       "\n",
       "        <iframe\n",
       "            width=\"70%\"\n",
       "            height=\"500\"\n",
       "            src=\"http://0.0.0.0:8060/\"\n",
       "            frameborder=\"0\"\n",
       "            allowfullscreen\n",
       "            \n",
       "        ></iframe>\n",
       "        "
      ],
      "text/plain": [
       "<IPython.lib.display.IFrame at 0x1fa695812d0>"
      ]
     },
     "metadata": {},
     "output_type": "display_data"
    }
   ],
   "source": [
    "from dash import Dash, html\n",
    "\n",
    "import dash_vtk\n",
    "from dash_vtk.utils import to_mesh_state\n",
    "\n",
    "try:\n",
    "    # VTK 9+\n",
    "    from vtkmodules.vtkImagingCore import vtkRTAnalyticSource\n",
    "except ImportError:\n",
    "    # VTK =< 8\n",
    "    from vtk.vtkImagingCore import vtkRTAnalyticSource\n",
    "\n",
    "# Use VTK to get some data\n",
    "data_source = vtkRTAnalyticSource()\n",
    "data_source.Update()  # <= Execute source to produce an output\n",
    "dataset = data_source.GetOutput()\n",
    "\n",
    "# Use helper to get a mesh structure that can be passed as-is to a Mesh\n",
    "# RTData is the name of the field\n",
    "mesh_state = to_mesh_state(dataset)\n",
    "\n",
    "content = dash_vtk.View([\n",
    "    dash_vtk.GeometryRepresentation([\n",
    "        dash_vtk.Mesh(state=mesh_state)\n",
    "    ]),\n",
    "])\n",
    "\n",
    "# Dash setup\n",
    "app = Dash(__name__)\n",
    "server = app.server\n",
    "\n",
    "app.layout = html.Div(\n",
    "    style={\"width\": \"100%\", \"height\": \"400px\"},\n",
    "    children=[content],\n",
    ")\n",
    "\n",
    "if __name__ == \"__main__\":\n",
    "    app.run(host=\"0.0.0.0\",\n",
    "            port=\"8060\", \n",
    "            jupyter_height=500, \n",
    "            jupyter_width=\"70%\")\n"
   ]
  },
  {
   "cell_type": "code",
   "execution_count": 10,
   "metadata": {},
   "outputs": [],
   "source": [
    "# jupyter_server_url=\"<your-url>\""
   ]
  },
  {
   "cell_type": "code",
   "execution_count": null,
   "metadata": {},
   "outputs": [],
   "source": []
  }
 ],
 "metadata": {
  "kernelspec": {
   "display_name": "py311",
   "language": "python",
   "name": "python3"
  },
  "language_info": {
   "codemirror_mode": {
    "name": "ipython",
    "version": 3
   },
   "file_extension": ".py",
   "mimetype": "text/x-python",
   "name": "python",
   "nbconvert_exporter": "python",
   "pygments_lexer": "ipython3",
   "version": "3.11.7"
  }
 },
 "nbformat": 4,
 "nbformat_minor": 2
}
