{
 "cells": [
  {
   "cell_type": "markdown",
   "metadata": {},
   "source": [
    "# Dash 布局\n",
    "\n",
    "```{topic} 导航\n",
    "本节将通过一些应用程序带领你了解 Dash 应用程序的基础方面：应用程序布局。\n",
    "```\n",
    "\n",
    "Dash 为应用程序的所有可视组件提供了 Python 类。"
   ]
  },
  {
   "cell_type": "markdown",
   "metadata": {},
   "source": []
  }
 ],
 "metadata": {
  "kernelspec": {
   "display_name": "py311",
   "language": "python",
   "name": "python3"
  },
  "language_info": {
   "name": "python",
   "version": "3.11.7"
  }
 },
 "nbformat": 4,
 "nbformat_minor": 2
}
